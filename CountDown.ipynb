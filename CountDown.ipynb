{
  "nbformat": 4,
  "nbformat_minor": 0,
  "metadata": {
    "colab": {
      "name": "CountDown.ipynb",
      "provenance": []
    },
    "kernelspec": {
      "name": "python3",
      "display_name": "Python 3"
    },
    "language_info": {
      "name": "python"
    }
  },
  "cells": [
    {
      "cell_type": "code",
      "execution_count": 2,
      "metadata": {
        "colab": {
          "base_uri": "https://localhost:8080/"
        },
        "id": "58UByDI6UAYq",
        "outputId": "a0d6d886-74bf-4034-c457-725980c3606e"
      },
      "outputs": [
        {
          "output_type": "stream",
          "name": "stdout",
          "text": [
            "Enter the time in seconds: 3\n",
            "Fire in the hole!!\n"
          ]
        }
      ],
      "source": [
        "import time\n",
        "  \n",
        "# define the countdown func.\n",
        "def countdown(t):\n",
        "    \n",
        "    while t:\n",
        "        mins, secs = divmod(t, 60)\n",
        "        timer = '{:02d}:{:02d}'.format(mins, secs)\n",
        "        print(timer, end=\"\\r\")\n",
        "        time.sleep(1)\n",
        "        t -= 1\n",
        "      \n",
        "    print('Fire in the hole!!')\n",
        "  \n",
        "  \n",
        "# input time in seconds\n",
        "t = input(\"Enter the time in seconds: \")\n",
        "  \n",
        "# function call\n",
        "countdown(int(t))"
      ]
    }
  ]
}